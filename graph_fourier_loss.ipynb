{
  "cells": [
    {
      "cell_type": "code",
      "execution_count": null,
      "metadata": {
        "colab": {
          "base_uri": "https://localhost:8080/"
        },
        "id": "-pRwG0WYaKtJ",
        "outputId": "684efa79-6422-4b59-a2e5-4207031bac10"
      },
      "outputs": [
        {
          "name": "stdout",
          "output_type": "stream",
          "text": [
            "Collecting torch_geometric\n",
            "  Downloading torch_geometric-2.6.1-py3-none-any.whl.metadata (63 kB)\n",
            "\u001b[?25l     \u001b[90m━━━━━━━━━━━━━━━━━━━━━━━━━━━━━━━━━━━━━━━━\u001b[0m \u001b[32m0.0/63.1 kB\u001b[0m \u001b[31m?\u001b[0m eta \u001b[36m-:--:--\u001b[0m\r\u001b[2K     \u001b[90m━━━━━━━━━━━━━━━━━━━━━━━━━━━━━━━━━━━━━━━━\u001b[0m \u001b[32m63.1/63.1 kB\u001b[0m \u001b[31m1.7 MB/s\u001b[0m eta \u001b[36m0:00:00\u001b[0m\n",
            "\u001b[?25hRequirement already satisfied: aiohttp in /usr/local/lib/python3.11/dist-packages (from torch_geometric) (3.11.14)\n",
            "Requirement already satisfied: fsspec in /usr/local/lib/python3.11/dist-packages (from torch_geometric) (2025.3.0)\n",
            "Requirement already satisfied: jinja2 in /usr/local/lib/python3.11/dist-packages (from torch_geometric) (3.1.6)\n",
            "Requirement already satisfied: numpy in /usr/local/lib/python3.11/dist-packages (from torch_geometric) (2.0.2)\n",
            "Requirement already satisfied: psutil>=5.8.0 in /usr/local/lib/python3.11/dist-packages (from torch_geometric) (5.9.5)\n",
            "Requirement already satisfied: pyparsing in /usr/local/lib/python3.11/dist-packages (from torch_geometric) (3.2.1)\n",
            "Requirement already satisfied: requests in /usr/local/lib/python3.11/dist-packages (from torch_geometric) (2.32.3)\n",
            "Requirement already satisfied: tqdm in /usr/local/lib/python3.11/dist-packages (from torch_geometric) (4.67.1)\n",
            "Requirement already satisfied: aiohappyeyeballs>=2.3.0 in /usr/local/lib/python3.11/dist-packages (from aiohttp->torch_geometric) (2.6.1)\n",
            "Requirement already satisfied: aiosignal>=1.1.2 in /usr/local/lib/python3.11/dist-packages (from aiohttp->torch_geometric) (1.3.2)\n",
            "Requirement already satisfied: attrs>=17.3.0 in /usr/local/lib/python3.11/dist-packages (from aiohttp->torch_geometric) (25.3.0)\n",
            "Requirement already satisfied: frozenlist>=1.1.1 in /usr/local/lib/python3.11/dist-packages (from aiohttp->torch_geometric) (1.5.0)\n",
            "Requirement already satisfied: multidict<7.0,>=4.5 in /usr/local/lib/python3.11/dist-packages (from aiohttp->torch_geometric) (6.2.0)\n",
            "Requirement already satisfied: propcache>=0.2.0 in /usr/local/lib/python3.11/dist-packages (from aiohttp->torch_geometric) (0.3.0)\n",
            "Requirement already satisfied: yarl<2.0,>=1.17.0 in /usr/local/lib/python3.11/dist-packages (from aiohttp->torch_geometric) (1.18.3)\n",
            "Requirement already satisfied: MarkupSafe>=2.0 in /usr/local/lib/python3.11/dist-packages (from jinja2->torch_geometric) (3.0.2)\n",
            "Requirement already satisfied: charset-normalizer<4,>=2 in /usr/local/lib/python3.11/dist-packages (from requests->torch_geometric) (3.4.1)\n",
            "Requirement already satisfied: idna<4,>=2.5 in /usr/local/lib/python3.11/dist-packages (from requests->torch_geometric) (3.10)\n",
            "Requirement already satisfied: urllib3<3,>=1.21.1 in /usr/local/lib/python3.11/dist-packages (from requests->torch_geometric) (2.3.0)\n",
            "Requirement already satisfied: certifi>=2017.4.17 in /usr/local/lib/python3.11/dist-packages (from requests->torch_geometric) (2025.1.31)\n",
            "Downloading torch_geometric-2.6.1-py3-none-any.whl (1.1 MB)\n",
            "\u001b[2K   \u001b[90m━━━━━━━━━━━━━━━━━━━━━━━━━━━━━━━━━━━━━━━━\u001b[0m \u001b[32m1.1/1.1 MB\u001b[0m \u001b[31m16.8 MB/s\u001b[0m eta \u001b[36m0:00:00\u001b[0m\n",
            "\u001b[?25hInstalling collected packages: torch_geometric\n",
            "Successfully installed torch_geometric-2.6.1\n"
          ]
        }
      ],
      "source": [
        "!pip install torch_geometric\n"
      ]
    },
    {
      "cell_type": "markdown",
      "metadata": {
        "id": "jjrMuDDd-YLF"
      },
      "source": [
        "Generated with a GenAI"
      ]
    },
    {
      "cell_type": "code",
      "execution_count": null,
      "metadata": {
        "id": "zGq5yj6tbTsV"
      },
      "outputs": [],
      "source": [
        "import torch\n",
        "import torch.nn as nn\n",
        "import networkx as nx\n",
        "from torch_geometric.utils import get_laplacian, to_dense_adj\n",
        "from torch_geometric.utils import from_networkx\n",
        "import numpy as np\n",
        "\n",
        "# Step 1: Create a graph using NetworkX\n",
        "G = nx.karate_club_graph()\n",
        "\n",
        "# Step 2: Convert NetworkX graph to PyTorch Geometric data\n",
        "graph = from_networkx(G)\n",
        "\n",
        "# Step 3: Extract edge index and set edge weights\n",
        "edge_index = graph.edge_index\n",
        "edge_weight = torch.ones(edge_index.shape[1])  # All edges have weight 1\n",
        "\n",
        "# Step 4: Compute Laplacian matrix\n",
        "laplacian_edge_index, laplacian_edge_weight = get_laplacian(edge_index, edge_weight)\n",
        "\n",
        "# Step 5: Convert to dense Laplacian matrix\n",
        "L_dense = to_dense_adj(laplacian_edge_index, edge_attr=laplacian_edge_weight).squeeze()\n",
        "\n",
        "# Step 6: Compute eigenvalues and eigenvectors\n",
        "eigenvalues, U = torch.linalg.eigh(L_dense)\n"
      ]
    },
    {
      "cell_type": "markdown",
      "metadata": {
        "id": "krv1DtLP-cJy"
      },
      "source": [
        "The rest is from myself"
      ]
    },
    {
      "cell_type": "code",
      "execution_count": null,
      "metadata": {
        "id": "MtFGx3SsF4dX"
      },
      "outputs": [],
      "source": [
        "class GraphFourierLoss(nn.Module):\n",
        "  def __init__(self, U, sep_rate, lambda_=0.4, eps=10e-4):\n",
        "    super(GraphFourierLoss, self).__init__()\n",
        "    self.mse = nn.MSELoss()\n",
        "    self.U = U\n",
        "    self.sep_rate = sep_rate\n",
        "    self.lambda_ = lambda_\n",
        "    self.eps = eps\n",
        "\n",
        "  @staticmethod\n",
        "  def adjust(y, en, en_high, alpha):\n",
        "    idx = torch.isin(en, en_high).nonzero()\n",
        "    y[idx] = y[idx] * alpha\n",
        "    return y\n",
        "\n",
        "  def forward(self, predictions, target):\n",
        "    y_hat = torch.matmul(self.U.T, predictions)\n",
        "    y_hat_train = torch.matmul(self.U.T, target)\n",
        "\n",
        "    E = torch.sum(torch.square(y_hat), dim=-1)\n",
        "    E_train = torch.sum(torch.square(y_hat_train), dim=-1)\n",
        "\n",
        "    E_sorted, _ = torch.sort(E)\n",
        "    E_train_sorted, _ = torch.sort(E_train)\n",
        "\n",
        "    segmenting_index = int(np.floor(E.size(0) * self.sep_rate))\n",
        "\n",
        "    E_low = E_sorted[:segmenting_index]\n",
        "    E_high = E_sorted[segmenting_index:]\n",
        "\n",
        "    E_low_train = E_train_sorted[:segmenting_index]\n",
        "    E_high_train = E_train_sorted[segmenting_index:]\n",
        "\n",
        "    alpha = torch.sqrt(torch.mean(E_low) / (torch.mean(E_high) + self.eps)) * self.lambda_\n",
        "\n",
        "    y_hat_prime = self.adjust(y_hat, E, E_high, alpha)\n",
        "    y_hat_train_prime = self.adjust(y_hat_train, E_train, E_high_train, alpha)\n",
        "\n",
        "    return self.mse(y_hat_prime, y_hat_train_prime)\n"
      ]
    },
    {
      "cell_type": "code",
      "execution_count": null,
      "metadata": {
        "colab": {
          "base_uri": "https://localhost:8080/"
        },
        "id": "EQTyCD59nZZQ",
        "outputId": "5f825f9b-bac3-4fbb-c914-cca794ff671a"
      },
      "outputs": [
        {
          "name": "stdout",
          "output_type": "stream",
          "text": [
            "tensor(0.0100)\n"
          ]
        }
      ],
      "source": [
        "N = 34\n",
        "d_k = 6\n",
        "\n",
        "predictions = torch.rand(N, d_k)\n",
        "target = torch.rand(N, d_k)\n",
        "\n",
        "gfl = GraphFourierLoss(U, sep_rate=0.2)\n",
        "\n",
        "print(gfl(predictions, target))\n"
      ]
    }
  ],
  "metadata": {
    "colab": {
      "provenance": []
    },
    "kernelspec": {
      "display_name": "Python 3",
      "name": "python3"
    },
    "language_info": {
      "name": "python"
    }
  },
  "nbformat": 4,
  "nbformat_minor": 0
}
